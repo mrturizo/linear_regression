{
  "cells": [
    {
      "cell_type": "markdown",
      "metadata": {
        "id": "view-in-github",
        "colab_type": "text"
      },
      "source": [
        "<a href=\"https://colab.research.google.com/github/mrturizo/linear_regression/blob/main/Predicci%C3%B3n_de_precios_de_carros_Regresion_Lineal_Multiple.ipynb\" target=\"_parent\"><img src=\"https://colab.research.google.com/assets/colab-badge.svg\" alt=\"Open In Colab\"/></a>"
      ]
    },
    {
      "cell_type": "markdown",
      "metadata": {
        "id": "EFgFd9Wmlt7e"
      },
      "source": [
        "# Práctica de Regresión Lineal Múltiple\n",
        "### **Curso:** Fundamentos de Inteligencia Artificial (FIA)\n",
        "### **Profesor:** Johann A. Ospina"
      ]
    },
    {
      "cell_type": "code",
      "execution_count": null,
      "metadata": {
        "id": "EBSCy2_Wlt7g",
        "colab": {
          "base_uri": "https://localhost:8080/"
        },
        "outputId": "2b4452f4-c1f7-4659-92c0-2bc8defc0d20"
      },
      "outputs": [
        {
          "output_type": "stream",
          "name": "stdout",
          "text": [
            "Looking in indexes: https://pypi.org/simple, https://us-python.pkg.dev/colab-wheels/public/simple/\n",
            "Requirement already satisfied: seaborn in /usr/local/lib/python3.8/dist-packages (0.11.2)\n",
            "Requirement already satisfied: numpy>=1.15 in /usr/local/lib/python3.8/dist-packages (from seaborn) (1.21.6)\n",
            "Requirement already satisfied: pandas>=0.23 in /usr/local/lib/python3.8/dist-packages (from seaborn) (1.3.5)\n",
            "Requirement already satisfied: matplotlib>=2.2 in /usr/local/lib/python3.8/dist-packages (from seaborn) (3.2.2)\n",
            "Requirement already satisfied: scipy>=1.0 in /usr/local/lib/python3.8/dist-packages (from seaborn) (1.7.3)\n",
            "Requirement already satisfied: cycler>=0.10 in /usr/local/lib/python3.8/dist-packages (from matplotlib>=2.2->seaborn) (0.11.0)\n",
            "Requirement already satisfied: python-dateutil>=2.1 in /usr/local/lib/python3.8/dist-packages (from matplotlib>=2.2->seaborn) (2.8.2)\n",
            "Requirement already satisfied: kiwisolver>=1.0.1 in /usr/local/lib/python3.8/dist-packages (from matplotlib>=2.2->seaborn) (1.4.4)\n",
            "Requirement already satisfied: pyparsing!=2.0.4,!=2.1.2,!=2.1.6,>=2.0.1 in /usr/local/lib/python3.8/dist-packages (from matplotlib>=2.2->seaborn) (3.0.9)\n",
            "Requirement already satisfied: pytz>=2017.3 in /usr/local/lib/python3.8/dist-packages (from pandas>=0.23->seaborn) (2022.7.1)\n",
            "Requirement already satisfied: six>=1.5 in /usr/local/lib/python3.8/dist-packages (from python-dateutil>=2.1->matplotlib>=2.2->seaborn) (1.15.0)\n"
          ]
        }
      ],
      "source": [
        "pip install seaborn "
      ]
    },
    {
      "cell_type": "code",
      "execution_count": null,
      "metadata": {
        "id": "jVDeSWK7lt7h",
        "colab": {
          "base_uri": "https://localhost:8080/"
        },
        "outputId": "7a026aca-3311-45fc-d135-60bbf149bb0d"
      },
      "outputs": [
        {
          "output_type": "stream",
          "name": "stdout",
          "text": [
            "Looking in indexes: https://pypi.org/simple, https://us-python.pkg.dev/colab-wheels/public/simple/\n",
            "Requirement already satisfied: scikit-learn in /usr/local/lib/python3.8/dist-packages (1.0.2)\n",
            "Requirement already satisfied: joblib>=0.11 in /usr/local/lib/python3.8/dist-packages (from scikit-learn) (1.2.0)\n",
            "Requirement already satisfied: numpy>=1.14.6 in /usr/local/lib/python3.8/dist-packages (from scikit-learn) (1.21.6)\n",
            "Requirement already satisfied: threadpoolctl>=2.0.0 in /usr/local/lib/python3.8/dist-packages (from scikit-learn) (3.1.0)\n",
            "Requirement already satisfied: scipy>=1.1.0 in /usr/local/lib/python3.8/dist-packages (from scikit-learn) (1.7.3)\n"
          ]
        }
      ],
      "source": [
        "pip install scikit-learn"
      ]
    },
    {
      "cell_type": "code",
      "execution_count": null,
      "metadata": {
        "id": "iY3V4auklt7h"
      },
      "outputs": [],
      "source": [
        "#Cargar librerias\n",
        "import pandas as pd\n",
        "import numpy as np\n",
        "import sklearn\n",
        "import math \n",
        "import seaborn as sns\n",
        "import matplotlib.pyplot as plt\n",
        "from mpl_toolkits import mplot3d\n",
        "from numpy.linalg import inv "
      ]
    },
    {
      "cell_type": "markdown",
      "metadata": {
        "id": "b6En0eedlt7h"
      },
      "source": [
        "**Ejemplo:** En un estudio sobre la población de un parásito se hizo un recuento de parásitos en 15 localizaciones con diversas condiciones\n",
        "ambientales."
      ]
    },
    {
      "cell_type": "code",
      "execution_count": null,
      "metadata": {
        "id": "pmyb6y_Rlt7i",
        "colab": {
          "base_uri": "https://localhost:8080/"
        },
        "outputId": "969c1373-d327-439c-9694-01d72b35b142"
      },
      "outputs": [
        {
          "output_type": "stream",
          "name": "stdout",
          "text": [
            "     car_ID  symboling                   CarName fueltype aspiration  \\\n",
            "0         1          3        alfa-romero giulia      gas        std   \n",
            "1         2          3       alfa-romero stelvio      gas        std   \n",
            "2         3          1  alfa-romero Quadrifoglio      gas        std   \n",
            "3         4          2               audi 100 ls      gas        std   \n",
            "4         5          2                audi 100ls      gas        std   \n",
            "..      ...        ...                       ...      ...        ...   \n",
            "200     201         -1           volvo 145e (sw)      gas        std   \n",
            "201     202         -1               volvo 144ea      gas      turbo   \n",
            "202     203         -1               volvo 244dl      gas        std   \n",
            "203     204         -1                 volvo 246   diesel      turbo   \n",
            "204     205         -1               volvo 264gl      gas      turbo   \n",
            "\n",
            "    doornumber      carbody drivewheel enginelocation  wheelbase  ...  \\\n",
            "0          two  convertible        rwd          front       88.6  ...   \n",
            "1          two  convertible        rwd          front       88.6  ...   \n",
            "2          two    hatchback        rwd          front       94.5  ...   \n",
            "3         four        sedan        fwd          front       99.8  ...   \n",
            "4         four        sedan        4wd          front       99.4  ...   \n",
            "..         ...          ...        ...            ...        ...  ...   \n",
            "200       four        sedan        rwd          front      109.1  ...   \n",
            "201       four        sedan        rwd          front      109.1  ...   \n",
            "202       four        sedan        rwd          front      109.1  ...   \n",
            "203       four        sedan        rwd          front      109.1  ...   \n",
            "204       four        sedan        rwd          front      109.1  ...   \n",
            "\n",
            "     enginesize  fuelsystem  boreratio  stroke compressionratio horsepower  \\\n",
            "0           130        mpfi       3.47    2.68              9.0        111   \n",
            "1           130        mpfi       3.47    2.68              9.0        111   \n",
            "2           152        mpfi       2.68    3.47              9.0        154   \n",
            "3           109        mpfi       3.19    3.40             10.0        102   \n",
            "4           136        mpfi       3.19    3.40              8.0        115   \n",
            "..          ...         ...        ...     ...              ...        ...   \n",
            "200         141        mpfi       3.78    3.15              9.5        114   \n",
            "201         141        mpfi       3.78    3.15              8.7        160   \n",
            "202         173        mpfi       3.58    2.87              8.8        134   \n",
            "203         145         idi       3.01    3.40             23.0        106   \n",
            "204         141        mpfi       3.78    3.15              9.5        114   \n",
            "\n",
            "     peakrpm citympg  highwaympg    price  \n",
            "0       5000      21          27  13495.0  \n",
            "1       5000      21          27  16500.0  \n",
            "2       5000      19          26  16500.0  \n",
            "3       5500      24          30  13950.0  \n",
            "4       5500      18          22  17450.0  \n",
            "..       ...     ...         ...      ...  \n",
            "200     5400      23          28  16845.0  \n",
            "201     5300      19          25  19045.0  \n",
            "202     5500      18          23  21485.0  \n",
            "203     4800      26          27  22470.0  \n",
            "204     5400      19          25  22625.0  \n",
            "\n",
            "[205 rows x 26 columns]\n",
            "<class 'pandas.core.frame.DataFrame'>\n",
            "RangeIndex: 205 entries, 0 to 204\n",
            "Data columns (total 26 columns):\n",
            " #   Column            Non-Null Count  Dtype  \n",
            "---  ------            --------------  -----  \n",
            " 0   car_ID            205 non-null    int64  \n",
            " 1   symboling         205 non-null    int64  \n",
            " 2   CarName           205 non-null    object \n",
            " 3   fueltype          205 non-null    object \n",
            " 4   aspiration        205 non-null    object \n",
            " 5   doornumber        205 non-null    object \n",
            " 6   carbody           205 non-null    object \n",
            " 7   drivewheel        205 non-null    object \n",
            " 8   enginelocation    205 non-null    object \n",
            " 9   wheelbase         205 non-null    float64\n",
            " 10  carlength         205 non-null    float64\n",
            " 11  carwidth          205 non-null    float64\n",
            " 12  carheight         205 non-null    float64\n",
            " 13  curbweight        205 non-null    int64  \n",
            " 14  enginetype        205 non-null    object \n",
            " 15  cylindernumber    205 non-null    object \n",
            " 16  enginesize        205 non-null    int64  \n",
            " 17  fuelsystem        205 non-null    object \n",
            " 18  boreratio         205 non-null    float64\n",
            " 19  stroke            205 non-null    float64\n",
            " 20  compressionratio  205 non-null    float64\n",
            " 21  horsepower        205 non-null    int64  \n",
            " 22  peakrpm           205 non-null    int64  \n",
            " 23  citympg           205 non-null    int64  \n",
            " 24  highwaympg        205 non-null    int64  \n",
            " 25  price             205 non-null    float64\n",
            "dtypes: float64(8), int64(8), object(10)\n",
            "memory usage: 41.8+ KB\n"
          ]
        }
      ],
      "source": [
        "#Cargar datos de csv\n",
        "df = pd.read_csv(r'CarPrice_Assignment.csv')\n",
        "print(df)\n",
        "df.info()"
      ]
    },
    {
      "cell_type": "code",
      "source": [
        "#filtrar dejando sólo variables cuantitativas\n",
        "df._get_numeric_data()"
      ],
      "metadata": {
        "colab": {
          "base_uri": "https://localhost:8080/",
          "height": 488
        },
        "id": "Ff_h5Iks1mJr",
        "outputId": "bde37d1e-1207-4a22-f77e-3cf221f38bf6"
      },
      "execution_count": null,
      "outputs": [
        {
          "output_type": "execute_result",
          "data": {
            "text/plain": [
              "     car_ID  symboling  wheelbase  carlength  carwidth  carheight  curbweight  \\\n",
              "0         1          3       88.6      168.8      64.1       48.8        2548   \n",
              "1         2          3       88.6      168.8      64.1       48.8        2548   \n",
              "2         3          1       94.5      171.2      65.5       52.4        2823   \n",
              "3         4          2       99.8      176.6      66.2       54.3        2337   \n",
              "4         5          2       99.4      176.6      66.4       54.3        2824   \n",
              "..      ...        ...        ...        ...       ...        ...         ...   \n",
              "200     201         -1      109.1      188.8      68.9       55.5        2952   \n",
              "201     202         -1      109.1      188.8      68.8       55.5        3049   \n",
              "202     203         -1      109.1      188.8      68.9       55.5        3012   \n",
              "203     204         -1      109.1      188.8      68.9       55.5        3217   \n",
              "204     205         -1      109.1      188.8      68.9       55.5        3062   \n",
              "\n",
              "     enginesize  boreratio  stroke  compressionratio  horsepower  peakrpm  \\\n",
              "0           130       3.47    2.68               9.0         111     5000   \n",
              "1           130       3.47    2.68               9.0         111     5000   \n",
              "2           152       2.68    3.47               9.0         154     5000   \n",
              "3           109       3.19    3.40              10.0         102     5500   \n",
              "4           136       3.19    3.40               8.0         115     5500   \n",
              "..          ...        ...     ...               ...         ...      ...   \n",
              "200         141       3.78    3.15               9.5         114     5400   \n",
              "201         141       3.78    3.15               8.7         160     5300   \n",
              "202         173       3.58    2.87               8.8         134     5500   \n",
              "203         145       3.01    3.40              23.0         106     4800   \n",
              "204         141       3.78    3.15               9.5         114     5400   \n",
              "\n",
              "     citympg  highwaympg    price  \n",
              "0         21          27  13495.0  \n",
              "1         21          27  16500.0  \n",
              "2         19          26  16500.0  \n",
              "3         24          30  13950.0  \n",
              "4         18          22  17450.0  \n",
              "..       ...         ...      ...  \n",
              "200       23          28  16845.0  \n",
              "201       19          25  19045.0  \n",
              "202       18          23  21485.0  \n",
              "203       26          27  22470.0  \n",
              "204       19          25  22625.0  \n",
              "\n",
              "[205 rows x 16 columns]"
            ],
            "text/html": [
              "\n",
              "  <div id=\"df-c2641d59-ee0d-423c-8381-1ff1102f111d\">\n",
              "    <div class=\"colab-df-container\">\n",
              "      <div>\n",
              "<style scoped>\n",
              "    .dataframe tbody tr th:only-of-type {\n",
              "        vertical-align: middle;\n",
              "    }\n",
              "\n",
              "    .dataframe tbody tr th {\n",
              "        vertical-align: top;\n",
              "    }\n",
              "\n",
              "    .dataframe thead th {\n",
              "        text-align: right;\n",
              "    }\n",
              "</style>\n",
              "<table border=\"1\" class=\"dataframe\">\n",
              "  <thead>\n",
              "    <tr style=\"text-align: right;\">\n",
              "      <th></th>\n",
              "      <th>car_ID</th>\n",
              "      <th>symboling</th>\n",
              "      <th>wheelbase</th>\n",
              "      <th>carlength</th>\n",
              "      <th>carwidth</th>\n",
              "      <th>carheight</th>\n",
              "      <th>curbweight</th>\n",
              "      <th>enginesize</th>\n",
              "      <th>boreratio</th>\n",
              "      <th>stroke</th>\n",
              "      <th>compressionratio</th>\n",
              "      <th>horsepower</th>\n",
              "      <th>peakrpm</th>\n",
              "      <th>citympg</th>\n",
              "      <th>highwaympg</th>\n",
              "      <th>price</th>\n",
              "    </tr>\n",
              "  </thead>\n",
              "  <tbody>\n",
              "    <tr>\n",
              "      <th>0</th>\n",
              "      <td>1</td>\n",
              "      <td>3</td>\n",
              "      <td>88.6</td>\n",
              "      <td>168.8</td>\n",
              "      <td>64.1</td>\n",
              "      <td>48.8</td>\n",
              "      <td>2548</td>\n",
              "      <td>130</td>\n",
              "      <td>3.47</td>\n",
              "      <td>2.68</td>\n",
              "      <td>9.0</td>\n",
              "      <td>111</td>\n",
              "      <td>5000</td>\n",
              "      <td>21</td>\n",
              "      <td>27</td>\n",
              "      <td>13495.0</td>\n",
              "    </tr>\n",
              "    <tr>\n",
              "      <th>1</th>\n",
              "      <td>2</td>\n",
              "      <td>3</td>\n",
              "      <td>88.6</td>\n",
              "      <td>168.8</td>\n",
              "      <td>64.1</td>\n",
              "      <td>48.8</td>\n",
              "      <td>2548</td>\n",
              "      <td>130</td>\n",
              "      <td>3.47</td>\n",
              "      <td>2.68</td>\n",
              "      <td>9.0</td>\n",
              "      <td>111</td>\n",
              "      <td>5000</td>\n",
              "      <td>21</td>\n",
              "      <td>27</td>\n",
              "      <td>16500.0</td>\n",
              "    </tr>\n",
              "    <tr>\n",
              "      <th>2</th>\n",
              "      <td>3</td>\n",
              "      <td>1</td>\n",
              "      <td>94.5</td>\n",
              "      <td>171.2</td>\n",
              "      <td>65.5</td>\n",
              "      <td>52.4</td>\n",
              "      <td>2823</td>\n",
              "      <td>152</td>\n",
              "      <td>2.68</td>\n",
              "      <td>3.47</td>\n",
              "      <td>9.0</td>\n",
              "      <td>154</td>\n",
              "      <td>5000</td>\n",
              "      <td>19</td>\n",
              "      <td>26</td>\n",
              "      <td>16500.0</td>\n",
              "    </tr>\n",
              "    <tr>\n",
              "      <th>3</th>\n",
              "      <td>4</td>\n",
              "      <td>2</td>\n",
              "      <td>99.8</td>\n",
              "      <td>176.6</td>\n",
              "      <td>66.2</td>\n",
              "      <td>54.3</td>\n",
              "      <td>2337</td>\n",
              "      <td>109</td>\n",
              "      <td>3.19</td>\n",
              "      <td>3.40</td>\n",
              "      <td>10.0</td>\n",
              "      <td>102</td>\n",
              "      <td>5500</td>\n",
              "      <td>24</td>\n",
              "      <td>30</td>\n",
              "      <td>13950.0</td>\n",
              "    </tr>\n",
              "    <tr>\n",
              "      <th>4</th>\n",
              "      <td>5</td>\n",
              "      <td>2</td>\n",
              "      <td>99.4</td>\n",
              "      <td>176.6</td>\n",
              "      <td>66.4</td>\n",
              "      <td>54.3</td>\n",
              "      <td>2824</td>\n",
              "      <td>136</td>\n",
              "      <td>3.19</td>\n",
              "      <td>3.40</td>\n",
              "      <td>8.0</td>\n",
              "      <td>115</td>\n",
              "      <td>5500</td>\n",
              "      <td>18</td>\n",
              "      <td>22</td>\n",
              "      <td>17450.0</td>\n",
              "    </tr>\n",
              "    <tr>\n",
              "      <th>...</th>\n",
              "      <td>...</td>\n",
              "      <td>...</td>\n",
              "      <td>...</td>\n",
              "      <td>...</td>\n",
              "      <td>...</td>\n",
              "      <td>...</td>\n",
              "      <td>...</td>\n",
              "      <td>...</td>\n",
              "      <td>...</td>\n",
              "      <td>...</td>\n",
              "      <td>...</td>\n",
              "      <td>...</td>\n",
              "      <td>...</td>\n",
              "      <td>...</td>\n",
              "      <td>...</td>\n",
              "      <td>...</td>\n",
              "    </tr>\n",
              "    <tr>\n",
              "      <th>200</th>\n",
              "      <td>201</td>\n",
              "      <td>-1</td>\n",
              "      <td>109.1</td>\n",
              "      <td>188.8</td>\n",
              "      <td>68.9</td>\n",
              "      <td>55.5</td>\n",
              "      <td>2952</td>\n",
              "      <td>141</td>\n",
              "      <td>3.78</td>\n",
              "      <td>3.15</td>\n",
              "      <td>9.5</td>\n",
              "      <td>114</td>\n",
              "      <td>5400</td>\n",
              "      <td>23</td>\n",
              "      <td>28</td>\n",
              "      <td>16845.0</td>\n",
              "    </tr>\n",
              "    <tr>\n",
              "      <th>201</th>\n",
              "      <td>202</td>\n",
              "      <td>-1</td>\n",
              "      <td>109.1</td>\n",
              "      <td>188.8</td>\n",
              "      <td>68.8</td>\n",
              "      <td>55.5</td>\n",
              "      <td>3049</td>\n",
              "      <td>141</td>\n",
              "      <td>3.78</td>\n",
              "      <td>3.15</td>\n",
              "      <td>8.7</td>\n",
              "      <td>160</td>\n",
              "      <td>5300</td>\n",
              "      <td>19</td>\n",
              "      <td>25</td>\n",
              "      <td>19045.0</td>\n",
              "    </tr>\n",
              "    <tr>\n",
              "      <th>202</th>\n",
              "      <td>203</td>\n",
              "      <td>-1</td>\n",
              "      <td>109.1</td>\n",
              "      <td>188.8</td>\n",
              "      <td>68.9</td>\n",
              "      <td>55.5</td>\n",
              "      <td>3012</td>\n",
              "      <td>173</td>\n",
              "      <td>3.58</td>\n",
              "      <td>2.87</td>\n",
              "      <td>8.8</td>\n",
              "      <td>134</td>\n",
              "      <td>5500</td>\n",
              "      <td>18</td>\n",
              "      <td>23</td>\n",
              "      <td>21485.0</td>\n",
              "    </tr>\n",
              "    <tr>\n",
              "      <th>203</th>\n",
              "      <td>204</td>\n",
              "      <td>-1</td>\n",
              "      <td>109.1</td>\n",
              "      <td>188.8</td>\n",
              "      <td>68.9</td>\n",
              "      <td>55.5</td>\n",
              "      <td>3217</td>\n",
              "      <td>145</td>\n",
              "      <td>3.01</td>\n",
              "      <td>3.40</td>\n",
              "      <td>23.0</td>\n",
              "      <td>106</td>\n",
              "      <td>4800</td>\n",
              "      <td>26</td>\n",
              "      <td>27</td>\n",
              "      <td>22470.0</td>\n",
              "    </tr>\n",
              "    <tr>\n",
              "      <th>204</th>\n",
              "      <td>205</td>\n",
              "      <td>-1</td>\n",
              "      <td>109.1</td>\n",
              "      <td>188.8</td>\n",
              "      <td>68.9</td>\n",
              "      <td>55.5</td>\n",
              "      <td>3062</td>\n",
              "      <td>141</td>\n",
              "      <td>3.78</td>\n",
              "      <td>3.15</td>\n",
              "      <td>9.5</td>\n",
              "      <td>114</td>\n",
              "      <td>5400</td>\n",
              "      <td>19</td>\n",
              "      <td>25</td>\n",
              "      <td>22625.0</td>\n",
              "    </tr>\n",
              "  </tbody>\n",
              "</table>\n",
              "<p>205 rows × 16 columns</p>\n",
              "</div>\n",
              "      <button class=\"colab-df-convert\" onclick=\"convertToInteractive('df-c2641d59-ee0d-423c-8381-1ff1102f111d')\"\n",
              "              title=\"Convert this dataframe to an interactive table.\"\n",
              "              style=\"display:none;\">\n",
              "        \n",
              "  <svg xmlns=\"http://www.w3.org/2000/svg\" height=\"24px\"viewBox=\"0 0 24 24\"\n",
              "       width=\"24px\">\n",
              "    <path d=\"M0 0h24v24H0V0z\" fill=\"none\"/>\n",
              "    <path d=\"M18.56 5.44l.94 2.06.94-2.06 2.06-.94-2.06-.94-.94-2.06-.94 2.06-2.06.94zm-11 1L8.5 8.5l.94-2.06 2.06-.94-2.06-.94L8.5 2.5l-.94 2.06-2.06.94zm10 10l.94 2.06.94-2.06 2.06-.94-2.06-.94-.94-2.06-.94 2.06-2.06.94z\"/><path d=\"M17.41 7.96l-1.37-1.37c-.4-.4-.92-.59-1.43-.59-.52 0-1.04.2-1.43.59L10.3 9.45l-7.72 7.72c-.78.78-.78 2.05 0 2.83L4 21.41c.39.39.9.59 1.41.59.51 0 1.02-.2 1.41-.59l7.78-7.78 2.81-2.81c.8-.78.8-2.07 0-2.86zM5.41 20L4 18.59l7.72-7.72 1.47 1.35L5.41 20z\"/>\n",
              "  </svg>\n",
              "      </button>\n",
              "      \n",
              "  <style>\n",
              "    .colab-df-container {\n",
              "      display:flex;\n",
              "      flex-wrap:wrap;\n",
              "      gap: 12px;\n",
              "    }\n",
              "\n",
              "    .colab-df-convert {\n",
              "      background-color: #E8F0FE;\n",
              "      border: none;\n",
              "      border-radius: 50%;\n",
              "      cursor: pointer;\n",
              "      display: none;\n",
              "      fill: #1967D2;\n",
              "      height: 32px;\n",
              "      padding: 0 0 0 0;\n",
              "      width: 32px;\n",
              "    }\n",
              "\n",
              "    .colab-df-convert:hover {\n",
              "      background-color: #E2EBFA;\n",
              "      box-shadow: 0px 1px 2px rgba(60, 64, 67, 0.3), 0px 1px 3px 1px rgba(60, 64, 67, 0.15);\n",
              "      fill: #174EA6;\n",
              "    }\n",
              "\n",
              "    [theme=dark] .colab-df-convert {\n",
              "      background-color: #3B4455;\n",
              "      fill: #D2E3FC;\n",
              "    }\n",
              "\n",
              "    [theme=dark] .colab-df-convert:hover {\n",
              "      background-color: #434B5C;\n",
              "      box-shadow: 0px 1px 3px 1px rgba(0, 0, 0, 0.15);\n",
              "      filter: drop-shadow(0px 1px 2px rgba(0, 0, 0, 0.3));\n",
              "      fill: #FFFFFF;\n",
              "    }\n",
              "  </style>\n",
              "\n",
              "      <script>\n",
              "        const buttonEl =\n",
              "          document.querySelector('#df-c2641d59-ee0d-423c-8381-1ff1102f111d button.colab-df-convert');\n",
              "        buttonEl.style.display =\n",
              "          google.colab.kernel.accessAllowed ? 'block' : 'none';\n",
              "\n",
              "        async function convertToInteractive(key) {\n",
              "          const element = document.querySelector('#df-c2641d59-ee0d-423c-8381-1ff1102f111d');\n",
              "          const dataTable =\n",
              "            await google.colab.kernel.invokeFunction('convertToInteractive',\n",
              "                                                     [key], {});\n",
              "          if (!dataTable) return;\n",
              "\n",
              "          const docLinkHtml = 'Like what you see? Visit the ' +\n",
              "            '<a target=\"_blank\" href=https://colab.research.google.com/notebooks/data_table.ipynb>data table notebook</a>'\n",
              "            + ' to learn more about interactive tables.';\n",
              "          element.innerHTML = '';\n",
              "          dataTable['output_type'] = 'display_data';\n",
              "          await google.colab.output.renderOutput(dataTable, element);\n",
              "          const docLink = document.createElement('div');\n",
              "          docLink.innerHTML = docLinkHtml;\n",
              "          element.appendChild(docLink);\n",
              "        }\n",
              "      </script>\n",
              "    </div>\n",
              "  </div>\n",
              "  "
            ]
          },
          "metadata": {},
          "execution_count": 4
        }
      ]
    },
    {
      "cell_type": "code",
      "source": [
        "#guardar el filtro como nuevo dataframe\n",
        "df2=df._get_numeric_data()\n",
        "df2.info()"
      ],
      "metadata": {
        "colab": {
          "base_uri": "https://localhost:8080/"
        },
        "id": "dBgBR62A6ld1",
        "outputId": "2339b6aa-cfc6-4290-9814-d87945d27884"
      },
      "execution_count": null,
      "outputs": [
        {
          "output_type": "stream",
          "name": "stdout",
          "text": [
            "<class 'pandas.core.frame.DataFrame'>\n",
            "RangeIndex: 205 entries, 0 to 204\n",
            "Data columns (total 16 columns):\n",
            " #   Column            Non-Null Count  Dtype  \n",
            "---  ------            --------------  -----  \n",
            " 0   car_ID            205 non-null    int64  \n",
            " 1   symboling         205 non-null    int64  \n",
            " 2   wheelbase         205 non-null    float64\n",
            " 3   carlength         205 non-null    float64\n",
            " 4   carwidth          205 non-null    float64\n",
            " 5   carheight         205 non-null    float64\n",
            " 6   curbweight        205 non-null    int64  \n",
            " 7   enginesize        205 non-null    int64  \n",
            " 8   boreratio         205 non-null    float64\n",
            " 9   stroke            205 non-null    float64\n",
            " 10  compressionratio  205 non-null    float64\n",
            " 11  horsepower        205 non-null    int64  \n",
            " 12  peakrpm           205 non-null    int64  \n",
            " 13  citympg           205 non-null    int64  \n",
            " 14  highwaympg        205 non-null    int64  \n",
            " 15  price             205 non-null    float64\n",
            "dtypes: float64(8), int64(8)\n",
            "memory usage: 25.8 KB\n"
          ]
        }
      ]
    },
    {
      "cell_type": "code",
      "source": [
        "# eliminar columnas innecesarias para la matriz X\n",
        "df3 = df2.drop(\n",
        "    labels=[\"car_ID\",\"price\"], axis=1)"
      ],
      "metadata": {
        "id": "jOy6IYDa3_0b"
      },
      "execution_count": null,
      "outputs": []
    },
    {
      "cell_type": "code",
      "source": [
        "#definir matriz X de variables\n",
        "X = df3\n",
        "print(X)"
      ],
      "metadata": {
        "colab": {
          "base_uri": "https://localhost:8080/"
        },
        "id": "cyJhkIcB8EiA",
        "outputId": "12b8ddad-75fd-4edc-97c2-8504f8fc790b"
      },
      "execution_count": null,
      "outputs": [
        {
          "output_type": "stream",
          "name": "stdout",
          "text": [
            "     symboling  wheelbase  carlength  carwidth  carheight  curbweight  \\\n",
            "0            3       88.6      168.8      64.1       48.8        2548   \n",
            "1            3       88.6      168.8      64.1       48.8        2548   \n",
            "2            1       94.5      171.2      65.5       52.4        2823   \n",
            "3            2       99.8      176.6      66.2       54.3        2337   \n",
            "4            2       99.4      176.6      66.4       54.3        2824   \n",
            "..         ...        ...        ...       ...        ...         ...   \n",
            "200         -1      109.1      188.8      68.9       55.5        2952   \n",
            "201         -1      109.1      188.8      68.8       55.5        3049   \n",
            "202         -1      109.1      188.8      68.9       55.5        3012   \n",
            "203         -1      109.1      188.8      68.9       55.5        3217   \n",
            "204         -1      109.1      188.8      68.9       55.5        3062   \n",
            "\n",
            "     enginesize  boreratio  stroke  compressionratio  horsepower  peakrpm  \\\n",
            "0           130       3.47    2.68               9.0         111     5000   \n",
            "1           130       3.47    2.68               9.0         111     5000   \n",
            "2           152       2.68    3.47               9.0         154     5000   \n",
            "3           109       3.19    3.40              10.0         102     5500   \n",
            "4           136       3.19    3.40               8.0         115     5500   \n",
            "..          ...        ...     ...               ...         ...      ...   \n",
            "200         141       3.78    3.15               9.5         114     5400   \n",
            "201         141       3.78    3.15               8.7         160     5300   \n",
            "202         173       3.58    2.87               8.8         134     5500   \n",
            "203         145       3.01    3.40              23.0         106     4800   \n",
            "204         141       3.78    3.15               9.5         114     5400   \n",
            "\n",
            "     citympg  highwaympg  \n",
            "0         21          27  \n",
            "1         21          27  \n",
            "2         19          26  \n",
            "3         24          30  \n",
            "4         18          22  \n",
            "..       ...         ...  \n",
            "200       23          28  \n",
            "201       19          25  \n",
            "202       18          23  \n",
            "203       26          27  \n",
            "204       19          25  \n",
            "\n",
            "[205 rows x 14 columns]\n"
          ]
        }
      ]
    },
    {
      "cell_type": "code",
      "source": [
        "#definir matriz Y de valores de respuesta\n",
        "Y = df2[['price']]\n",
        "print(Y)"
      ],
      "metadata": {
        "colab": {
          "base_uri": "https://localhost:8080/"
        },
        "id": "ewdXQah28jIm",
        "outputId": "0ce98e8d-8488-4134-d36b-35a979d3c131"
      },
      "execution_count": null,
      "outputs": [
        {
          "output_type": "stream",
          "name": "stdout",
          "text": [
            "       price\n",
            "0    13495.0\n",
            "1    16500.0\n",
            "2    16500.0\n",
            "3    13950.0\n",
            "4    17450.0\n",
            "..       ...\n",
            "200  16845.0\n",
            "201  19045.0\n",
            "202  21485.0\n",
            "203  22470.0\n",
            "204  22625.0\n",
            "\n",
            "[205 rows x 1 columns]\n"
          ]
        }
      ]
    },
    {
      "cell_type": "code",
      "source": [
        "#Diagrama de dispersión entre ...\n",
        "plt.scatter(df2['horsepower'], df2['price'])\n",
        "plt.xlabel('horsepower')\n",
        "plt.ylabel('price')\n"
      ],
      "metadata": {
        "colab": {
          "base_uri": "https://localhost:8080/",
          "height": 296
        },
        "id": "zhataN1I8pvu",
        "outputId": "b9a1b5af-baba-4715-a7d3-4c390feaa02c"
      },
      "execution_count": null,
      "outputs": [
        {
          "output_type": "execute_result",
          "data": {
            "text/plain": [
              "Text(0, 0.5, 'price')"
            ]
          },
          "metadata": {},
          "execution_count": 9
        },
        {
          "output_type": "display_data",
          "data": {
            "text/plain": [
              "<Figure size 432x288 with 1 Axes>"
            ],
            "image/png": "[encoded data removed]"
          },
          "metadata": {
            "needs_background": "light"
          }
        }
      ]
    },
    {
      "cell_type": "code",
      "source": [
        "#Diagrama de dispersión entre ...\n",
        "plt.scatter(df2['stroke'], df['price'])\n",
        "plt.xlabel('stroke')\n",
        "plt.ylabel('price')"
      ],
      "metadata": {
        "colab": {
          "base_uri": "https://localhost:8080/",
          "height": 296
        },
        "id": "a_CdJezL-OG4",
        "outputId": "6f46068e-8ee1-4438-8e8d-a235a679d0e9"
      },
      "execution_count": null,
      "outputs": [
        {
          "output_type": "execute_result",
          "data": {
            "text/plain": [
              "Text(0, 0.5, 'price')"
            ]
          },
          "metadata": {},
          "execution_count": 10
        },
        {
          "output_type": "display_data",
          "data": {
            "text/plain": [
              "<Figure size 432x288 with 1 Axes>"
            ],
            "image/png": "[encoded data removed]"
          },
          "metadata": {
            "needs_background": "light"
          }
        }
      ]
    },
    {
      "cell_type": "code",
      "source": [
        "\n",
        "#Diagrama de dispersión entre ...\n",
        "plt.scatter(df2['compressionratio'], df['price'])\n",
        "plt.xlabel('compressionratio')\n",
        "plt.ylabel('price')\n"
      ],
      "metadata": {
        "colab": {
          "base_uri": "https://localhost:8080/",
          "height": 296
        },
        "id": "aTWvCttT96ws",
        "outputId": "a55e30b5-2bac-420a-dde5-844e463e16bc"
      },
      "execution_count": null,
      "outputs": [
        {
          "output_type": "execute_result",
          "data": {
            "text/plain": [
              "Text(0, 0.5, 'price')"
            ]
          },
          "metadata": {},
          "execution_count": 11
        },
        {
          "output_type": "display_data",
          "data": {
            "text/plain": [
              "<Figure size 432x288 with 1 Axes>"
            ],
            "image/png": "[encoded data removed]"
          },
          "metadata": {
            "needs_background": "light"
          }
        }
      ]
    },
    {
      "cell_type": "code",
      "source": [
        "#Diagrama de dispersión entre ...\n",
        "plt.scatter(df2['wheelbase'], df['price'])\n",
        "plt.xlabel('wheelbase')\n",
        "plt.ylabel('price')\n",
        "\n"
      ],
      "metadata": {
        "colab": {
          "base_uri": "https://localhost:8080/",
          "height": 296
        },
        "id": "WtkTb04j-EiF",
        "outputId": "16303474-98db-4ef3-e7c7-95417d0f1236"
      },
      "execution_count": null,
      "outputs": [
        {
          "output_type": "execute_result",
          "data": {
            "text/plain": [
              "Text(0, 0.5, 'price')"
            ]
          },
          "metadata": {},
          "execution_count": 12
        },
        {
          "output_type": "display_data",
          "data": {
            "text/plain": [
              "<Figure size 432x288 with 1 Axes>"
            ],
            "image/png": "[encoded data removed]"
          },
          "metadata": {
            "needs_background": "light"
          }
        }
      ]
    },
    {
      "cell_type": "code",
      "source": [
        "#Diagrama de dispersión entre ...\n",
        "plt.scatter(df2['enginesize'], df['price'])\n",
        "plt.xlabel('enginesize')\n",
        "plt.ylabel('price')"
      ],
      "metadata": {
        "colab": {
          "base_uri": "https://localhost:8080/",
          "height": 296
        },
        "id": "MYmCxr4U-ILN",
        "outputId": "391342a8-6f38-4f77-fa13-397197b80d00"
      },
      "execution_count": null,
      "outputs": [
        {
          "output_type": "execute_result",
          "data": {
            "text/plain": [
              "Text(0, 0.5, 'price')"
            ]
          },
          "metadata": {},
          "execution_count": 13
        },
        {
          "output_type": "display_data",
          "data": {
            "text/plain": [
              "<Figure size 432x288 with 1 Axes>"
            ],
            "image/png": "[encoded data removed]"
          },
          "metadata": {
            "needs_background": "light"
          }
        }
      ]
    },
    {
      "cell_type": "markdown",
      "metadata": {
        "id": "tNigSXJMlt7l"
      },
      "source": [
        "# Ajuste de un modelo de regresión lineal múltiple usando librerias"
      ]
    },
    {
      "cell_type": "markdown",
      "metadata": {
        "id": "bdvanJlvlt7l"
      },
      "source": [
        "Pasos para el análisis de regresión múltiple:\n",
        "\n",
        "1. Preparar los datos.\n",
        "2. Análisis Exploratorio de Datos (AED).\n",
        "3. Evaluar las correlaciones.\n",
        "4. Ajuste del modelo con datos de entrenamiento.\n",
        "5. Credibilidad del modelo con datos de prueba\n",
        "\n",
        "\n",
        "**Tarea:** Realizar el AED."
      ]
    },
    {
      "cell_type": "code",
      "execution_count": null,
      "metadata": {
        "id": "P7o_zDbKlt7m",
        "colab": {
          "base_uri": "https://localhost:8080/",
          "height": 468
        },
        "outputId": "5bbfd4a1-466f-47e9-b6ba-50408eb6a1a7"
      },
      "outputs": [
        {
          "output_type": "execute_result",
          "data": {
            "text/plain": [
              "                    car_ID  symboling  wheelbase  carlength  carwidth  \\\n",
              "car_ID            1.000000  -0.151621   0.129729   0.170636  0.052387   \n",
              "symboling        -0.151621   1.000000  -0.531954  -0.357612 -0.232919   \n",
              "wheelbase         0.129729  -0.531954   1.000000   0.874587  0.795144   \n",
              "carlength         0.170636  -0.357612   0.874587   1.000000  0.841118   \n",
              "carwidth          0.052387  -0.232919   0.795144   0.841118  1.000000   \n",
              "carheight         0.255960  -0.541038   0.589435   0.491029  0.279210   \n",
              "curbweight        0.071962  -0.227691   0.776386   0.877728  0.867032   \n",
              "enginesize       -0.033930  -0.105790   0.569329   0.683360  0.735433   \n",
              "boreratio         0.260064  -0.130051   0.488750   0.606454  0.559150   \n",
              "stroke           -0.160824  -0.008735   0.160959   0.129533  0.182942   \n",
              "compressionratio  0.150276  -0.178515   0.249786   0.158414  0.181129   \n",
              "horsepower       -0.015006   0.070873   0.353294   0.552623  0.640732   \n",
              "peakrpm          -0.203789   0.273606  -0.360469  -0.287242 -0.220012   \n",
              "citympg           0.015940  -0.035823  -0.470414  -0.670909 -0.642704   \n",
              "highwaympg        0.011255   0.034606  -0.544082  -0.704662 -0.677218   \n",
              "price            -0.109093  -0.079978   0.577816   0.682920  0.759325   \n",
              "\n",
              "                  carheight  curbweight  enginesize  boreratio    stroke  \\\n",
              "car_ID             0.255960    0.071962   -0.033930   0.260064 -0.160824   \n",
              "symboling         -0.541038   -0.227691   -0.105790  -0.130051 -0.008735   \n",
              "wheelbase          0.589435    0.776386    0.569329   0.488750  0.160959   \n",
              "carlength          0.491029    0.877728    0.683360   0.606454  0.129533   \n",
              "carwidth           0.279210    0.867032    0.735433   0.559150  0.182942   \n",
              "carheight          1.000000    0.295572    0.067149   0.171071 -0.055307   \n",
              "curbweight         0.295572    1.000000    0.850594   0.648480  0.168790   \n",
              "enginesize         0.067149    0.850594    1.000000   0.583774  0.203129   \n",
              "boreratio          0.171071    0.648480    0.583774   1.000000 -0.055909   \n",
              "stroke            -0.055307    0.168790    0.203129  -0.055909  1.000000   \n",
              "compressionratio   0.261214    0.151362    0.028971   0.005197  0.186110   \n",
              "horsepower        -0.108802    0.750739    0.809769   0.573677  0.080940   \n",
              "peakrpm           -0.320411   -0.266243   -0.244660  -0.254976 -0.067964   \n",
              "citympg           -0.048640   -0.757414   -0.653658  -0.584532 -0.042145   \n",
              "highwaympg        -0.107358   -0.797465   -0.677470  -0.587012 -0.043931   \n",
              "price              0.119336    0.835305    0.874145   0.553173  0.079443   \n",
              "\n",
              "                  compressionratio  horsepower   peakrpm   citympg  \\\n",
              "car_ID                    0.150276   -0.015006 -0.203789  0.015940   \n",
              "symboling                -0.178515    0.070873  0.273606 -0.035823   \n",
              "wheelbase                 0.249786    0.353294 -0.360469 -0.470414   \n",
              "carlength                 0.158414    0.552623 -0.287242 -0.670909   \n",
              "carwidth                  0.181129    0.640732 -0.220012 -0.642704   \n",
              "carheight                 0.261214   -0.108802 -0.320411 -0.048640   \n",
              "curbweight                0.151362    0.750739 -0.266243 -0.757414   \n",
              "enginesize                0.028971    0.809769 -0.244660 -0.653658   \n",
              "boreratio                 0.005197    0.573677 -0.254976 -0.584532   \n",
              "stroke                    0.186110    0.080940 -0.067964 -0.042145   \n",
              "compressionratio          1.000000   -0.204326 -0.435741  0.324701   \n",
              "horsepower               -0.204326    1.000000  0.131073 -0.801456   \n",
              "peakrpm                  -0.435741    0.131073  1.000000 -0.113544   \n",
              "citympg                   0.324701   -0.801456 -0.113544  1.000000   \n",
              "highwaympg                0.265201   -0.770544 -0.054275  0.971337   \n",
              "price                     0.067984    0.808139 -0.085267 -0.685751   \n",
              "\n",
              "                  highwaympg     price  \n",
              "car_ID              0.011255 -0.109093  \n",
              "symboling           0.034606 -0.079978  \n",
              "wheelbase          -0.544082  0.577816  \n",
              "carlength          -0.704662  0.682920  \n",
              "carwidth           -0.677218  0.759325  \n",
              "carheight          -0.107358  0.119336  \n",
              "curbweight         -0.797465  0.835305  \n",
              "enginesize         -0.677470  0.874145  \n",
              "boreratio          -0.587012  0.553173  \n",
              "stroke             -0.043931  0.079443  \n",
              "compressionratio    0.265201  0.067984  \n",
              "horsepower         -0.770544  0.808139  \n",
              "peakrpm            -0.054275 -0.085267  \n",
              "citympg             0.971337 -0.685751  \n",
              "highwaympg          1.000000 -0.697599  \n",
              "price              -0.697599  1.000000  "
            ],
            "text/html": [
              "\n",
              "  <div id=\"df-682cea0e-5875-47d3-acbe-2b94c54b1704\">\n",
              "    <div class=\"colab-df-container\">\n",
              "      <div>\n",
              "<style scoped>\n",
              "    .dataframe tbody tr th:only-of-type {\n",
              "        vertical-align: middle;\n",
              "    }\n",
              "\n",
              "    .dataframe tbody tr th {\n",
              "        vertical-align: top;\n",
              "    }\n",
              "\n",
              "    .dataframe thead th {\n",
              "        text-align: right;\n",
              "    }\n",
              "</style>\n",
              "<table border=\"1\" class=\"dataframe\">\n",
              "  <thead>\n",
              "    <tr style=\"text-align: right;\">\n",
              "      <th></th>\n",
              "      <th>car_ID</th>\n",
              "      <th>symboling</th>\n",
              "      <th>wheelbase</th>\n",
              "      <th>carlength</th>\n",
              "      <th>carwidth</th>\n",
              "      <th>carheight</th>\n",
              "      <th>curbweight</th>\n",
              "      <th>enginesize</th>\n",
              "      <th>boreratio</th>\n",
              "      <th>stroke</th>\n",
              "      <th>compressionratio</th>\n",
              "      <th>horsepower</th>\n",
              "      <th>peakrpm</th>\n",
              "      <th>citympg</th>\n",
              "      <th>highwaympg</th>\n",
              "      <th>price</th>\n",
              "    </tr>\n",
              "  </thead>\n",
              "  <tbody>\n",
              "    <tr>\n",
              "      <th>car_ID</th>\n",
              "      <td>1.000000</td>\n",
              "      <td>-0.151621</td>\n",
              "      <td>0.129729</td>\n",
              "      <td>0.170636</td>\n",
              "      <td>0.052387</td>\n",
              "      <td>0.255960</td>\n",
              "      <td>0.071962</td>\n",
              "      <td>-0.033930</td>\n",
              "      <td>0.260064</td>\n",
              "      <td>-0.160824</td>\n",
              "      <td>0.150276</td>\n",
              "      <td>-0.015006</td>\n",
              "      <td>-0.203789</td>\n",
              "      <td>0.015940</td>\n",
              "      <td>0.011255</td>\n",
              "      <td>-0.109093</td>\n",
              "    </tr>\n",
              "    <tr>\n",
              "      <th>symboling</th>\n",
              "      <td>-0.151621</td>\n",
              "      <td>1.000000</td>\n",
              "      <td>-0.531954</td>\n",
              "      <td>-0.357612</td>\n",
              "      <td>-0.232919</td>\n",
              "      <td>-0.541038</td>\n",
              "      <td>-0.227691</td>\n",
              "      <td>-0.105790</td>\n",
              "      <td>-0.130051</td>\n",
              "      <td>-0.008735</td>\n",
              "      <td>-0.178515</td>\n",
              "      <td>0.070873</td>\n",
              "      <td>0.273606</td>\n",
              "      <td>-0.035823</td>\n",
              "      <td>0.034606</td>\n",
              "      <td>-0.079978</td>\n",
              "    </tr>\n",
              "    <tr>\n",
              "      <th>wheelbase</th>\n",
              "      <td>0.129729</td>\n",
              "      <td>-0.531954</td>\n",
              "      <td>1.000000</td>\n",
              "      <td>0.874587</td>\n",
              "      <td>0.795144</td>\n",
              "      <td>0.589435</td>\n",
              "      <td>0.776386</td>\n",
              "      <td>0.569329</td>\n",
              "      <td>0.488750</td>\n",
              "      <td>0.160959</td>\n",
              "      <td>0.249786</td>\n",
              "      <td>0.353294</td>\n",
              "      <td>-0.360469</td>\n",
              "      <td>-0.470414</td>\n",
              "      <td>-0.544082</td>\n",
              "      <td>0.577816</td>\n",
              "    </tr>\n",
              "    <tr>\n",
              "      <th>carlength</th>\n",
              "      <td>0.170636</td>\n",
              "      <td>-0.357612</td>\n",
              "      <td>0.874587</td>\n",
              "      <td>1.000000</td>\n",
              "      <td>0.841118</td>\n",
              "      <td>0.491029</td>\n",
              "      <td>0.877728</td>\n",
              "      <td>0.683360</td>\n",
              "      <td>0.606454</td>\n",
              "      <td>0.129533</td>\n",
              "      <td>0.158414</td>\n",
              "      <td>0.552623</td>\n",
              "      <td>-0.287242</td>\n",
              "      <td>-0.670909</td>\n",
              "      <td>-0.704662</td>\n",
              "      <td>0.682920</td>\n",
              "    </tr>\n",
              "    <tr>\n",
              "      <th>carwidth</th>\n",
              "      <td>0.052387</td>\n",
              "      <td>-0.232919</td>\n",
              "      <td>0.795144</td>\n",
              "      <td>0.841118</td>\n",
              "      <td>1.000000</td>\n",
              "      <td>0.279210</td>\n",
              "      <td>0.867032</td>\n",
              "      <td>0.735433</td>\n",
              "      <td>0.559150</td>\n",
              "      <td>0.182942</td>\n",
              "      <td>0.181129</td>\n",
              "      <td>0.640732</td>\n",
              "      <td>-0.220012</td>\n",
              "      <td>-0.642704</td>\n",
              "      <td>-0.677218</td>\n",
              "      <td>0.759325</td>\n",
              "    </tr>\n",
              "    <tr>\n",
              "      <th>carheight</th>\n",
              "      <td>0.255960</td>\n",
              "      <td>-0.541038</td>\n",
              "      <td>0.589435</td>\n",
              "      <td>0.491029</td>\n",
              "      <td>0.279210</td>\n",
              "      <td>1.000000</td>\n",
              "      <td>0.295572</td>\n",
              "      <td>0.067149</td>\n",
              "      <td>0.171071</td>\n",
              "      <td>-0.055307</td>\n",
              "      <td>0.261214</td>\n",
              "      <td>-0.108802</td>\n",
              "      <td>-0.320411</td>\n",
              "      <td>-0.048640</td>\n",
              "      <td>-0.107358</td>\n",
              "      <td>0.119336</td>\n",
              "    </tr>\n",
              "    <tr>\n",
              "      <th>curbweight</th>\n",
              "      <td>0.071962</td>\n",
              "      <td>-0.227691</td>\n",
              "      <td>0.776386</td>\n",
              "      <td>0.877728</td>\n",
              "      <td>0.867032</td>\n",
              "      <td>0.295572</td>\n",
              "      <td>1.000000</td>\n",
              "      <td>0.850594</td>\n",
              "      <td>0.648480</td>\n",
              "      <td>0.168790</td>\n",
              "      <td>0.151362</td>\n",
              "      <td>0.750739</td>\n",
              "      <td>-0.266243</td>\n",
              "      <td>-0.757414</td>\n",
              "      <td>-0.797465</td>\n",
              "      <td>0.835305</td>\n",
              "    </tr>\n",
              "    <tr>\n",
              "      <th>enginesize</th>\n",
              "      <td>-0.033930</td>\n",
              "      <td>-0.105790</td>\n",
              "      <td>0.569329</td>\n",
              "      <td>0.683360</td>\n",
              "      <td>0.735433</td>\n",
              "      <td>0.067149</td>\n",
              "      <td>0.850594</td>\n",
              "      <td>1.000000</td>\n",
              "      <td>0.583774</td>\n",
              "      <td>0.203129</td>\n",
              "      <td>0.028971</td>\n",
              "      <td>0.809769</td>\n",
              "      <td>-0.244660</td>\n",
              "      <td>-0.653658</td>\n",
              "      <td>-0.677470</td>\n",
              "      <td>0.874145</td>\n",
              "    </tr>\n",
              "    <tr>\n",
              "      <th>boreratio</th>\n",
              "      <td>0.260064</td>\n",
              "      <td>-0.130051</td>\n",
              "      <td>0.488750</td>\n",
              "      <td>0.606454</td>\n",
              "      <td>0.559150</td>\n",
              "      <td>0.171071</td>\n",
              "      <td>0.648480</td>\n",
              "      <td>0.583774</td>\n",
              "      <td>1.000000</td>\n",
              "      <td>-0.055909</td>\n",
              "      <td>0.005197</td>\n",
              "      <td>0.573677</td>\n",
              "      <td>-0.254976</td>\n",
              "      <td>-0.584532</td>\n",
              "      <td>-0.587012</td>\n",
              "      <td>0.553173</td>\n",
              "    </tr>\n",
              "    <tr>\n",
              "      <th>stroke</th>\n",
              "      <td>-0.160824</td>\n",
              "      <td>-0.008735</td>\n",
              "      <td>0.160959</td>\n",
              "      <td>0.129533</td>\n",
              "      <td>0.182942</td>\n",
              "      <td>-0.055307</td>\n",
              "      <td>0.168790</td>\n",
              "      <td>0.203129</td>\n",
              "      <td>-0.055909</td>\n",
              "      <td>1.000000</td>\n",
              "      <td>0.186110</td>\n",
              "      <td>0.080940</td>\n",
              "      <td>-0.067964</td>\n",
              "      <td>-0.042145</td>\n",
              "      <td>-0.043931</td>\n",
              "      <td>0.079443</td>\n",
              "    </tr>\n",
              "    <tr>\n",
              "      <th>compressionratio</th>\n",
              "      <td>0.150276</td>\n",
              "      <td>-0.178515</td>\n",
              "      <td>0.249786</td>\n",
              "      <td>0.158414</td>\n",
              "      <td>0.181129</td>\n",
              "      <td>0.261214</td>\n",
              "      <td>0.151362</td>\n",
              "      <td>0.028971</td>\n",
              "      <td>0.005197</td>\n",
              "      <td>0.186110</td>\n",
              "      <td>1.000000</td>\n",
              "      <td>-0.204326</td>\n",
              "      <td>-0.435741</td>\n",
              "      <td>0.324701</td>\n",
              "      <td>0.265201</td>\n",
              "      <td>0.067984</td>\n",
              "    </tr>\n",
              "    <tr>\n",
              "      <th>horsepower</th>\n",
              "      <td>-0.015006</td>\n",
              "      <td>0.070873</td>\n",
              "      <td>0.353294</td>\n",
              "      <td>0.552623</td>\n",
              "      <td>0.640732</td>\n",
              "      <td>-0.108802</td>\n",
              "      <td>0.750739</td>\n",
              "      <td>0.809769</td>\n",
              "      <td>0.573677</td>\n",
              "      <td>0.080940</td>\n",
              "      <td>-0.204326</td>\n",
              "      <td>1.000000</td>\n",
              "      <td>0.131073</td>\n",
              "      <td>-0.801456</td>\n",
              "      <td>-0.770544</td>\n",
              "      <td>0.808139</td>\n",
              "    </tr>\n",
              "    <tr>\n",
              "      <th>peakrpm</th>\n",
              "      <td>-0.203789</td>\n",
              "      <td>0.273606</td>\n",
              "      <td>-0.360469</td>\n",
              "      <td>-0.287242</td>\n",
              "      <td>-0.220012</td>\n",
              "      <td>-0.320411</td>\n",
              "      <td>-0.266243</td>\n",
              "      <td>-0.244660</td>\n",
              "      <td>-0.254976</td>\n",
              "      <td>-0.067964</td>\n",
              "      <td>-0.435741</td>\n",
              "      <td>0.131073</td>\n",
              "      <td>1.000000</td>\n",
              "      <td>-0.113544</td>\n",
              "      <td>-0.054275</td>\n",
              "      <td>-0.085267</td>\n",
              "    </tr>\n",
              "    <tr>\n",
              "      <th>citympg</th>\n",
              "      <td>0.015940</td>\n",
              "      <td>-0.035823</td>\n",
              "      <td>-0.470414</td>\n",
              "      <td>-0.670909</td>\n",
              "      <td>-0.642704</td>\n",
              "      <td>-0.048640</td>\n",
              "      <td>-0.757414</td>\n",
              "      <td>-0.653658</td>\n",
              "      <td>-0.584532</td>\n",
              "      <td>-0.042145</td>\n",
              "      <td>0.324701</td>\n",
              "      <td>-0.801456</td>\n",
              "      <td>-0.113544</td>\n",
              "      <td>1.000000</td>\n",
              "      <td>0.971337</td>\n",
              "      <td>-0.685751</td>\n",
              "    </tr>\n",
              "    <tr>\n",
              "      <th>highwaympg</th>\n",
              "      <td>0.011255</td>\n",
              "      <td>0.034606</td>\n",
              "      <td>-0.544082</td>\n",
              "      <td>-0.704662</td>\n",
              "      <td>-0.677218</td>\n",
              "      <td>-0.107358</td>\n",
              "      <td>-0.797465</td>\n",
              "      <td>-0.677470</td>\n",
              "      <td>-0.587012</td>\n",
              "      <td>-0.043931</td>\n",
              "      <td>0.265201</td>\n",
              "      <td>-0.770544</td>\n",
              "      <td>-0.054275</td>\n",
              "      <td>0.971337</td>\n",
              "      <td>1.000000</td>\n",
              "      <td>-0.697599</td>\n",
              "    </tr>\n",
              "    <tr>\n",
              "      <th>price</th>\n",
              "      <td>-0.109093</td>\n",
              "      <td>-0.079978</td>\n",
              "      <td>0.577816</td>\n",
              "      <td>0.682920</td>\n",
              "      <td>0.759325</td>\n",
              "      <td>0.119336</td>\n",
              "      <td>0.835305</td>\n",
              "      <td>0.874145</td>\n",
              "      <td>0.553173</td>\n",
              "      <td>0.079443</td>\n",
              "      <td>0.067984</td>\n",
              "      <td>0.808139</td>\n",
              "      <td>-0.085267</td>\n",
              "      <td>-0.685751</td>\n",
              "      <td>-0.697599</td>\n",
              "      <td>1.000000</td>\n",
              "    </tr>\n",
              "  </tbody>\n",
              "</table>\n",
              "</div>\n",
              "      <button class=\"colab-df-convert\" onclick=\"convertToInteractive('df-682cea0e-5875-47d3-acbe-2b94c54b1704')\"\n",
              "              title=\"Convert this dataframe to an interactive table.\"\n",
              "              style=\"display:none;\">\n",
              "        \n",
              "  <svg xmlns=\"http://www.w3.org/2000/svg\" height=\"24px\"viewBox=\"0 0 24 24\"\n",
              "       width=\"24px\">\n",
              "    <path d=\"M0 0h24v24H0V0z\" fill=\"none\"/>\n",
              "    <path d=\"M18.56 5.44l.94 2.06.94-2.06 2.06-.94-2.06-.94-.94-2.06-.94 2.06-2.06.94zm-11 1L8.5 8.5l.94-2.06 2.06-.94-2.06-.94L8.5 2.5l-.94 2.06-2.06.94zm10 10l.94 2.06.94-2.06 2.06-.94-2.06-.94-.94-2.06-.94 2.06-2.06.94z\"/><path d=\"M17.41 7.96l-1.37-1.37c-.4-.4-.92-.59-1.43-.59-.52 0-1.04.2-1.43.59L10.3 9.45l-7.72 7.72c-.78.78-.78 2.05 0 2.83L4 21.41c.39.39.9.59 1.41.59.51 0 1.02-.2 1.41-.59l7.78-7.78 2.81-2.81c.8-.78.8-2.07 0-2.86zM5.41 20L4 18.59l7.72-7.72 1.47 1.35L5.41 20z\"/>\n",
              "  </svg>\n",
              "      </button>\n",
              "      \n",
              "  <style>\n",
              "    .colab-df-container {\n",
              "      display:flex;\n",
              "      flex-wrap:wrap;\n",
              "      gap: 12px;\n",
              "    }\n",
              "\n",
              "    .colab-df-convert {\n",
              "      background-color: #E8F0FE;\n",
              "      border: none;\n",
              "      border-radius: 50%;\n",
              "      cursor: pointer;\n",
              "      display: none;\n",
              "      fill: #1967D2;\n",
              "      height: 32px;\n",
              "      padding: 0 0 0 0;\n",
              "      width: 32px;\n",
              "    }\n",
              "\n",
              "    .colab-df-convert:hover {\n",
              "      background-color: #E2EBFA;\n",
              "      box-shadow: 0px 1px 2px rgba(60, 64, 67, 0.3), 0px 1px 3px 1px rgba(60, 64, 67, 0.15);\n",
              "      fill: #174EA6;\n",
              "    }\n",
              "\n",
              "    [theme=dark] .colab-df-convert {\n",
              "      background-color: #3B4455;\n",
              "      fill: #D2E3FC;\n",
              "    }\n",
              "\n",
              "    [theme=dark] .colab-df-convert:hover {\n",
              "      background-color: #434B5C;\n",
              "      box-shadow: 0px 1px 3px 1px rgba(0, 0, 0, 0.15);\n",
              "      filter: drop-shadow(0px 1px 2px rgba(0, 0, 0, 0.3));\n",
              "      fill: #FFFFFF;\n",
              "    }\n",
              "  </style>\n",
              "\n",
              "      <script>\n",
              "        const buttonEl =\n",
              "          document.querySelector('#df-682cea0e-5875-47d3-acbe-2b94c54b1704 button.colab-df-convert');\n",
              "        buttonEl.style.display =\n",
              "          google.colab.kernel.accessAllowed ? 'block' : 'none';\n",
              "\n",
              "        async function convertToInteractive(key) {\n",
              "          const element = document.querySelector('#df-682cea0e-5875-47d3-acbe-2b94c54b1704');\n",
              "          const dataTable =\n",
              "            await google.colab.kernel.invokeFunction('convertToInteractive',\n",
              "                                                     [key], {});\n",
              "          if (!dataTable) return;\n",
              "\n",
              "          const docLinkHtml = 'Like what you see? Visit the ' +\n",
              "            '<a target=\"_blank\" href=https://colab.research.google.com/notebooks/data_table.ipynb>data table notebook</a>'\n",
              "            + ' to learn more about interactive tables.';\n",
              "          element.innerHTML = '';\n",
              "          dataTable['output_type'] = 'display_data';\n",
              "          await google.colab.output.renderOutput(dataTable, element);\n",
              "          const docLink = document.createElement('div');\n",
              "          docLink.innerHTML = docLinkHtml;\n",
              "          element.appendChild(docLink);\n",
              "        }\n",
              "      </script>\n",
              "    </div>\n",
              "  </div>\n",
              "  "
            ]
          },
          "metadata": {},
          "execution_count": 14
        }
      ],
      "source": [
        "#2. Evaluar las correlaciones\n",
        "matriz_corr = df2.corr()\n",
        "matriz_corr"
      ]
    },
    {
      "cell_type": "code",
      "execution_count": null,
      "metadata": {
        "id": "Na7degKnlt7m"
      },
      "outputs": [],
      "source": [
        "#Grafica de la matriz de correlaciones\n",
        "sns.heatmap(matriz_corr, annot=True);"
      ]
    },
    {
      "cell_type": "code",
      "execution_count": null,
      "metadata": {
        "id": "-HY6Nhgslt7m"
      },
      "outputs": [],
      "source": [
        "#Importar métodos para regresión lineal de la libreria sklearn\n",
        "from sklearn.linear_model import LinearRegression\n",
        "from sklearn.model_selection import train_test_split"
      ]
    },
    {
      "cell_type": "code",
      "execution_count": null,
      "metadata": {
        "id": "-cssIZtBlt7m"
      },
      "outputs": [],
      "source": [
        "#Definir el dataframe de variable predictoras y variable respuesta\n",
        "X = df3\n",
        "Y = df2['price']"
      ]
    },
    {
      "cell_type": "code",
      "execution_count": null,
      "metadata": {
        "id": "nyP1harflt7n"
      },
      "outputs": [],
      "source": [
        "#Definir datos de entrenamiento y datos de prueba (30%)\n",
        "x_train, x_test, y_train, y_test = train_test_split(X, Y, test_size = 0.3)"
      ]
    },
    {
      "cell_type": "code",
      "execution_count": null,
      "metadata": {
        "id": "5URCIn3Tlt7n"
      },
      "outputs": [],
      "source": [
        "#3. Ajuste del modelo con datos de prueba\n",
        "linear_model = LinearRegression().fit(x_train, y_train)"
      ]
    },
    {
      "cell_type": "code",
      "execution_count": null,
      "metadata": {
        "id": "rnYsLEjHlt7n",
        "colab": {
          "base_uri": "https://localhost:8080/"
        },
        "outputId": "54f02daa-f2fc-4e4f-9929-d90085964346"
      },
      "outputs": [
        {
          "output_type": "stream",
          "name": "stdout",
          "text": [
            "Puntaje Entrenamiento:  0.8607127143445135\n"
          ]
        }
      ],
      "source": [
        "print('Puntaje Entrenamiento: ', linear_model.score(x_train, y_train))"
      ]
    },
    {
      "cell_type": "code",
      "execution_count": null,
      "metadata": {
        "id": "gqUcALb8lt7n",
        "colab": {
          "base_uri": "https://localhost:8080/"
        },
        "outputId": "4b9f7fc3-1dcd-4620-c0c8-fdeee1a4a9e8"
      },
      "outputs": [
        {
          "output_type": "stream",
          "name": "stdout",
          "text": [
            "stroke             -3590.172857\n",
            "boreratio           -297.907488\n",
            "citympg             -218.931730\n",
            "carlength           -122.460640\n",
            "curbweight             1.053520\n",
            "peakrpm                2.542180\n",
            "horsepower            22.646079\n",
            "highwaympg            79.519521\n",
            "carheight            102.625017\n",
            "enginesize           116.973914\n",
            "wheelbase            162.791053\n",
            "symboling            284.588693\n",
            "compressionratio     317.398186\n",
            "carwidth             805.407978\n",
            "dtype: float64\n"
          ]
        }
      ],
      "source": [
        "predictors = x_train.columns\n",
        "coef = pd.Series(linear_model.coef_, predictors).sort_values()\n",
        "print(coef)"
      ]
    },
    {
      "cell_type": "code",
      "execution_count": null,
      "metadata": {
        "colab": {
          "base_uri": "https://localhost:8080/"
        },
        "id": "slYgoyV1lt7n",
        "outputId": "d43a8820-71ba-4bf7-990c-6b89d0d5e517"
      },
      "outputs": [
        {
          "output_type": "execute_result",
          "data": {
            "text/plain": [
              "array([ 8540.75969554,  5251.65269938, 15442.06461719, 15322.56468222,\n",
              "       14880.16266225,  9243.22328595, 15370.58208806, 13905.39839328,\n",
              "        6185.13539689, 13358.20777831, 25692.34533149, 10051.49581467,\n",
              "        9058.39128527, 16714.4398761 ,  5582.28406123,  6866.26603398,\n",
              "        7927.55260027, 25862.72026326, 26626.23715607, 15060.09144855,\n",
              "        9872.83565266,  6905.53099502,  8503.18004219, 15990.65306842,\n",
              "        6521.26524655,  5685.36208505, 11998.27232475, 29403.6197722 ,\n",
              "        8489.80326306, 10109.21866141, -1189.31769275,  9787.81317062,\n",
              "       21678.49397644, 18036.88788675, 10035.6930086 , 46181.81660999,\n",
              "        9213.49766086, 13260.8370333 ,  9323.34186301,  6761.91802773,\n",
              "        6762.20284399,  9010.19535574, 25485.98547488,  5798.95108825,\n",
              "        9810.67226581, 40248.83104256, 35125.56153179, 10579.54949874,\n",
              "       25104.80353375, 14780.27218079,  5760.1367198 , 18094.83150901,\n",
              "        5937.41991758, 18381.80001791, 10083.03389819,  9480.05633405,\n",
              "       24609.92516239, 15428.52571031,  7110.53550883, 24435.02826492,\n",
              "       14822.21904   ,  6889.44348288])"
            ]
          },
          "metadata": {},
          "execution_count": 22
        }
      ],
      "source": [
        "y_pred = linear_model.predict(x_test)\n",
        "y_pred"
      ]
    },
    {
      "cell_type": "code",
      "execution_count": null,
      "metadata": {
        "id": "FzrdG5helt7o"
      },
      "outputs": [],
      "source": [
        "#y_pred\n",
        "#print(type(y_pred))\n",
        "#y_test = y_test.to_numpy() \n",
        "#print(type(y_test))\n",
        "#print(y_test)"
      ]
    },
    {
      "cell_type": "code",
      "execution_count": null,
      "metadata": {
        "id": "zkpqDSSQlt7o"
      },
      "outputs": [],
      "source": [
        "#Importar métricas\n",
        "from sklearn.metrics import r2_score, mean_squared_error, mean_absolute_error"
      ]
    },
    {
      "cell_type": "code",
      "execution_count": null,
      "metadata": {
        "id": "2C77VdIdlt7o",
        "colab": {
          "base_uri": "https://localhost:8080/"
        },
        "outputId": "147ea386-4ed8-4043-d318-b840d3bf3011"
      },
      "outputs": [
        {
          "output_type": "stream",
          "name": "stdout",
          "text": [
            "0.8294996382967346\n"
          ]
        }
      ],
      "source": [
        "r2 = r2_score(y_test, y_pred)\n",
        "print(r2)"
      ]
    },
    {
      "cell_type": "code",
      "execution_count": null,
      "metadata": {
        "id": "JwAXYI4Alt7o",
        "colab": {
          "base_uri": "https://localhost:8080/"
        },
        "outputId": "81899fd9-6162-461a-b372-6388fd73f204"
      },
      "outputs": [
        {
          "output_type": "stream",
          "name": "stdout",
          "text": [
            "16508088.377185905\n"
          ]
        }
      ],
      "source": [
        "from sklearn.metrics import mean_squared_error\n",
        "ecm = mean_squared_error(y_test, y_pred)\n",
        "print(ecm)"
      ]
    },
    {
      "cell_type": "code",
      "execution_count": null,
      "metadata": {
        "id": "jeV8XuDHlt7o",
        "colab": {
          "base_uri": "https://localhost:8080/"
        },
        "outputId": "4c96dfd2-148f-470a-9154-6d9b99e7bdea"
      },
      "outputs": [
        {
          "output_type": "stream",
          "name": "stdout",
          "text": [
            "4063.014690742073\n"
          ]
        }
      ],
      "source": [
        "#Raíz del Error Cuadrático Medio (RECM)\n",
        "recm = math.sqrt(ecm)\n",
        "print(recm)"
      ]
    },
    {
      "cell_type": "code",
      "execution_count": null,
      "metadata": {
        "id": "-2RA_T5plt7p",
        "colab": {
          "base_uri": "https://localhost:8080/"
        },
        "outputId": "280d41af-e4db-4a42-ee14-73b256bf9341"
      },
      "outputs": [
        {
          "output_type": "stream",
          "name": "stdout",
          "text": [
            "2833.2821390556282\n"
          ]
        }
      ],
      "source": [
        "#Error Absoluto Medio\n",
        "eam = mean_absolute_error(y_test, y_pred)\n",
        "print(eam)"
      ]
    },
    {
      "cell_type": "code",
      "execution_count": null,
      "metadata": {
        "id": "i1bxZZUJlt7p",
        "colab": {
          "base_uri": "https://localhost:8080/",
          "height": 493
        },
        "outputId": "cadc5d3f-5071-4c0a-ca2e-be76e46c56e8"
      },
      "outputs": [
        {
          "output_type": "execute_result",
          "data": {
            "text/plain": [
              "Text(0, 0.5, 'Recuento')"
            ]
          },
          "metadata": {},
          "execution_count": 29
        },
        {
          "output_type": "display_data",
          "data": {
            "text/plain": [
              "<Figure size 1440x720 with 1 Axes>"
            ],
            "image/png": "[encoded data removed]"
          },
          "metadata": {
            "needs_background": "light"
          }
        }
      ],
      "source": [
        "#Grafico de predicción\n",
        "plt.figure(figsize = (20,10))\n",
        "\n",
        "plt.plot(y_pred, label='Prediccion')\n",
        "plt.plot(y_test.values, label='Real')\n",
        "plt.ylabel('Recuento')"
      ]
    },
    {
      "cell_type": "markdown",
      "metadata": {
        "id": "ax98LOLpPfFr"
      },
      "source": [
        "# Ahora con las variables más significativas para predecir el precio del carro - Ajuste de un modelo de regresión lineal múltiple usando librerias"
      ]
    },
    {
      "cell_type": "markdown",
      "metadata": {
        "id": "y5_pu1XBPfFr"
      },
      "source": [
        "Pasos para el análisis de regresión múltiple:\n",
        "\n",
        "1. Preparar los datos.\n",
        "2. Análisis Exploratorio de Datos (AED).\n",
        "3. Evaluar las correlaciones.\n",
        "4. Ajuste del modelo con datos de entrenamiento.\n",
        "5. Credibilidad del modelo con datos de prueba\n",
        "\n",
        "\n",
        "**Tarea:** Realizar el AED."
      ]
    },
    {
      "cell_type": "code",
      "source": [
        "df4 = df2[['price','enginesize','curbweight','horsepower']]\n",
        "print(df4)"
      ],
      "metadata": {
        "colab": {
          "base_uri": "https://localhost:8080/"
        },
        "id": "qTxOHvuwPp7F",
        "outputId": "304b8d50-3fb3-4817-8708-683ab23cfeb5"
      },
      "execution_count": null,
      "outputs": [
        {
          "output_type": "stream",
          "name": "stdout",
          "text": [
            "       price  enginesize  curbweight  horsepower\n",
            "0    13495.0         130        2548         111\n",
            "1    16500.0         130        2548         111\n",
            "2    16500.0         152        2823         154\n",
            "3    13950.0         109        2337         102\n",
            "4    17450.0         136        2824         115\n",
            "..       ...         ...         ...         ...\n",
            "200  16845.0         141        2952         114\n",
            "201  19045.0         141        3049         160\n",
            "202  21485.0         173        3012         134\n",
            "203  22470.0         145        3217         106\n",
            "204  22625.0         141        3062         114\n",
            "\n",
            "[205 rows x 4 columns]\n"
          ]
        }
      ]
    },
    {
      "cell_type": "code",
      "execution_count": null,
      "metadata": {
        "colab": {
          "base_uri": "https://localhost:8080/",
          "height": 175
        },
        "outputId": "aea3de5d-ce20-4adc-8243-7cd2c416457b",
        "id": "RqCdTZw3PfFs"
      },
      "outputs": [
        {
          "output_type": "execute_result",
          "data": {
            "text/plain": [
              "               price  enginesize  curbweight  horsepower\n",
              "price       1.000000    0.874145    0.835305    0.808139\n",
              "enginesize  0.874145    1.000000    0.850594    0.809769\n",
              "curbweight  0.835305    0.850594    1.000000    0.750739\n",
              "horsepower  0.808139    0.809769    0.750739    1.000000"
            ],
            "text/html": [
              "\n",
              "  <div id=\"df-3fb447b1-5081-4163-8ac3-94049881a2fd\">\n",
              "    <div class=\"colab-df-container\">\n",
              "      <div>\n",
              "<style scoped>\n",
              "    .dataframe tbody tr th:only-of-type {\n",
              "        vertical-align: middle;\n",
              "    }\n",
              "\n",
              "    .dataframe tbody tr th {\n",
              "        vertical-align: top;\n",
              "    }\n",
              "\n",
              "    .dataframe thead th {\n",
              "        text-align: right;\n",
              "    }\n",
              "</style>\n",
              "<table border=\"1\" class=\"dataframe\">\n",
              "  <thead>\n",
              "    <tr style=\"text-align: right;\">\n",
              "      <th></th>\n",
              "      <th>price</th>\n",
              "      <th>enginesize</th>\n",
              "      <th>curbweight</th>\n",
              "      <th>horsepower</th>\n",
              "    </tr>\n",
              "  </thead>\n",
              "  <tbody>\n",
              "    <tr>\n",
              "      <th>price</th>\n",
              "      <td>1.000000</td>\n",
              "      <td>0.874145</td>\n",
              "      <td>0.835305</td>\n",
              "      <td>0.808139</td>\n",
              "    </tr>\n",
              "    <tr>\n",
              "      <th>enginesize</th>\n",
              "      <td>0.874145</td>\n",
              "      <td>1.000000</td>\n",
              "      <td>0.850594</td>\n",
              "      <td>0.809769</td>\n",
              "    </tr>\n",
              "    <tr>\n",
              "      <th>curbweight</th>\n",
              "      <td>0.835305</td>\n",
              "      <td>0.850594</td>\n",
              "      <td>1.000000</td>\n",
              "      <td>0.750739</td>\n",
              "    </tr>\n",
              "    <tr>\n",
              "      <th>horsepower</th>\n",
              "      <td>0.808139</td>\n",
              "      <td>0.809769</td>\n",
              "      <td>0.750739</td>\n",
              "      <td>1.000000</td>\n",
              "    </tr>\n",
              "  </tbody>\n",
              "</table>\n",
              "</div>\n",
              "      <button class=\"colab-df-convert\" onclick=\"convertToInteractive('df-3fb447b1-5081-4163-8ac3-94049881a2fd')\"\n",
              "              title=\"Convert this dataframe to an interactive table.\"\n",
              "              style=\"display:none;\">\n",
              "        \n",
              "  <svg xmlns=\"http://www.w3.org/2000/svg\" height=\"24px\"viewBox=\"0 0 24 24\"\n",
              "       width=\"24px\">\n",
              "    <path d=\"M0 0h24v24H0V0z\" fill=\"none\"/>\n",
              "    <path d=\"M18.56 5.44l.94 2.06.94-2.06 2.06-.94-2.06-.94-.94-2.06-.94 2.06-2.06.94zm-11 1L8.5 8.5l.94-2.06 2.06-.94-2.06-.94L8.5 2.5l-.94 2.06-2.06.94zm10 10l.94 2.06.94-2.06 2.06-.94-2.06-.94-.94-2.06-.94 2.06-2.06.94z\"/><path d=\"M17.41 7.96l-1.37-1.37c-.4-.4-.92-.59-1.43-.59-.52 0-1.04.2-1.43.59L10.3 9.45l-7.72 7.72c-.78.78-.78 2.05 0 2.83L4 21.41c.39.39.9.59 1.41.59.51 0 1.02-.2 1.41-.59l7.78-7.78 2.81-2.81c.8-.78.8-2.07 0-2.86zM5.41 20L4 18.59l7.72-7.72 1.47 1.35L5.41 20z\"/>\n",
              "  </svg>\n",
              "      </button>\n",
              "      \n",
              "  <style>\n",
              "    .colab-df-container {\n",
              "      display:flex;\n",
              "      flex-wrap:wrap;\n",
              "      gap: 12px;\n",
              "    }\n",
              "\n",
              "    .colab-df-convert {\n",
              "      background-color: #E8F0FE;\n",
              "      border: none;\n",
              "      border-radius: 50%;\n",
              "      cursor: pointer;\n",
              "      display: none;\n",
              "      fill: #1967D2;\n",
              "      height: 32px;\n",
              "      padding: 0 0 0 0;\n",
              "      width: 32px;\n",
              "    }\n",
              "\n",
              "    .colab-df-convert:hover {\n",
              "      background-color: #E2EBFA;\n",
              "      box-shadow: 0px 1px 2px rgba(60, 64, 67, 0.3), 0px 1px 3px 1px rgba(60, 64, 67, 0.15);\n",
              "      fill: #174EA6;\n",
              "    }\n",
              "\n",
              "    [theme=dark] .colab-df-convert {\n",
              "      background-color: #3B4455;\n",
              "      fill: #D2E3FC;\n",
              "    }\n",
              "\n",
              "    [theme=dark] .colab-df-convert:hover {\n",
              "      background-color: #434B5C;\n",
              "      box-shadow: 0px 1px 3px 1px rgba(0, 0, 0, 0.15);\n",
              "      filter: drop-shadow(0px 1px 2px rgba(0, 0, 0, 0.3));\n",
              "      fill: #FFFFFF;\n",
              "    }\n",
              "  </style>\n",
              "\n",
              "      <script>\n",
              "        const buttonEl =\n",
              "          document.querySelector('#df-3fb447b1-5081-4163-8ac3-94049881a2fd button.colab-df-convert');\n",
              "        buttonEl.style.display =\n",
              "          google.colab.kernel.accessAllowed ? 'block' : 'none';\n",
              "\n",
              "        async function convertToInteractive(key) {\n",
              "          const element = document.querySelector('#df-3fb447b1-5081-4163-8ac3-94049881a2fd');\n",
              "          const dataTable =\n",
              "            await google.colab.kernel.invokeFunction('convertToInteractive',\n",
              "                                                     [key], {});\n",
              "          if (!dataTable) return;\n",
              "\n",
              "          const docLinkHtml = 'Like what you see? Visit the ' +\n",
              "            '<a target=\"_blank\" href=https://colab.research.google.com/notebooks/data_table.ipynb>data table notebook</a>'\n",
              "            + ' to learn more about interactive tables.';\n",
              "          element.innerHTML = '';\n",
              "          dataTable['output_type'] = 'display_data';\n",
              "          await google.colab.output.renderOutput(dataTable, element);\n",
              "          const docLink = document.createElement('div');\n",
              "          docLink.innerHTML = docLinkHtml;\n",
              "          element.appendChild(docLink);\n",
              "        }\n",
              "      </script>\n",
              "    </div>\n",
              "  </div>\n",
              "  "
            ]
          },
          "metadata": {},
          "execution_count": 33
        }
      ],
      "source": [
        "#2. Evaluar las correlaciones\n",
        "matriz_corr = df4.corr()\n",
        "matriz_corr"
      ]
    },
    {
      "cell_type": "code",
      "execution_count": null,
      "metadata": {
        "colab": {
          "base_uri": "https://localhost:8080/",
          "height": 269
        },
        "outputId": "caa058c9-78d3-4573-e1af-7b000729061e",
        "id": "29We8Lp0PfFt"
      },
      "outputs": [
        {
          "output_type": "display_data",
          "data": {
            "text/plain": [
              "<Figure size 432x288 with 2 Axes>"
            ],
            "image/png": "[encoded data removed]"
          },
          "metadata": {
            "needs_background": "light"
          }
        }
      ],
      "source": [
        "#Grafica de la matriz de correlaciones\n",
        "sns.heatmap(matriz_corr, annot=True);"
      ]
    },
    {
      "cell_type": "code",
      "execution_count": null,
      "metadata": {
        "id": "rW-ZEObTPfFt"
      },
      "outputs": [],
      "source": [
        "#Importar métodos para regresión lineal de la libreria sklearn\n",
        "from sklearn.linear_model import LinearRegression\n",
        "from sklearn.model_selection import train_test_split"
      ]
    },
    {
      "cell_type": "code",
      "execution_count": null,
      "metadata": {
        "colab": {
          "base_uri": "https://localhost:8080/"
        },
        "id": "SFw5p1C_PfFu",
        "outputId": "e83000bc-af5d-4a4b-b366-3b5cc5f0a8e2"
      },
      "outputs": [
        {
          "output_type": "stream",
          "name": "stdout",
          "text": [
            "     enginesize  curbweight  horsepower\n",
            "0           130        2548         111\n",
            "1           130        2548         111\n",
            "2           152        2823         154\n",
            "3           109        2337         102\n",
            "4           136        2824         115\n",
            "..          ...         ...         ...\n",
            "200         141        2952         114\n",
            "201         141        3049         160\n",
            "202         173        3012         134\n",
            "203         145        3217         106\n",
            "204         141        3062         114\n",
            "\n",
            "[205 rows x 3 columns]\n",
            "0      13495.0\n",
            "1      16500.0\n",
            "2      16500.0\n",
            "3      13950.0\n",
            "4      17450.0\n",
            "        ...   \n",
            "200    16845.0\n",
            "201    19045.0\n",
            "202    21485.0\n",
            "203    22470.0\n",
            "204    22625.0\n",
            "Name: price, Length: 205, dtype: float64\n"
          ]
        }
      ],
      "source": [
        "#Definir el dataframe de variable predictoras y variable respuesta\n",
        "X = df4.drop(\n",
        "    labels=[\"price\"], axis=1)\n",
        "Y = df4['price']\n",
        "print(X)\n",
        "print(Y)"
      ]
    },
    {
      "cell_type": "code",
      "execution_count": null,
      "metadata": {
        "id": "Vw-CIx9LPfFu"
      },
      "outputs": [],
      "source": [
        "#Definir datos de entrenamiento y datos de prueba (30%)\n",
        "x_train, x_test, y_train, y_test = train_test_split(X, Y, test_size = 0.3)"
      ]
    },
    {
      "cell_type": "code",
      "execution_count": null,
      "metadata": {
        "id": "qOupxmfoPfFv"
      },
      "outputs": [],
      "source": [
        "#3. Ajuste del modelo con datos de prueba\n",
        "linear_model = LinearRegression().fit(x_train, y_train)"
      ]
    },
    {
      "cell_type": "code",
      "execution_count": null,
      "metadata": {
        "colab": {
          "base_uri": "https://localhost:8080/"
        },
        "outputId": "8d92837e-4e9c-4817-c5a0-5a6ecf728d30",
        "id": "yzrK0JBvPfFv"
      },
      "outputs": [
        {
          "output_type": "stream",
          "name": "stdout",
          "text": [
            "Puntaje Entrenamiento:  0.7934536110390586\n"
          ]
        }
      ],
      "source": [
        "print('Puntaje Entrenamiento: ', linear_model.score(x_train, y_train))"
      ]
    },
    {
      "cell_type": "code",
      "execution_count": null,
      "metadata": {
        "colab": {
          "base_uri": "https://localhost:8080/"
        },
        "outputId": "36750d6f-547e-4817-c702-7a9de9aaa9a5",
        "id": "I1fb0ddnPfFv"
      },
      "outputs": [
        {
          "output_type": "stream",
          "name": "stdout",
          "text": [
            "curbweight     4.347386\n",
            "horsepower    58.072788\n",
            "enginesize    75.942922\n",
            "dtype: float64\n"
          ]
        }
      ],
      "source": [
        "predictors = x_train.columns\n",
        "coef = pd.Series(linear_model.coef_, predictors).sort_values()\n",
        "print(coef)"
      ]
    },
    {
      "cell_type": "code",
      "execution_count": null,
      "metadata": {
        "colab": {
          "base_uri": "https://localhost:8080/"
        },
        "outputId": "58580e76-17b2-436a-e837-5adde50aa5d5",
        "id": "LOH051goPfFw"
      },
      "outputs": [
        {
          "output_type": "execute_result",
          "data": {
            "text/plain": [
              "array([ 4121.69601462,  7462.59723367, 14649.9666964 , 15565.98121208,\n",
              "       18623.46206815,  7384.3442942 , 11587.06903347,  7327.82828236,\n",
              "       11945.29730625,  8048.69074403,  6555.4574936 , 37682.30728609,\n",
              "        5925.67453714, 18862.56827208, 17339.88892321,  8147.79030961,\n",
              "        5986.81058354, 27787.17193939, 10026.24174371,  6299.54969238,\n",
              "        7740.82990734, 10016.04813913, 15500.77042919, 18681.69486148,\n",
              "        6506.92565874, 33426.36656965, 12820.17739451, 25658.36039593,\n",
              "        5591.19850067, 12747.22390363, 17409.27267514, 17849.6274445 ,\n",
              "        9755.95824838, 19410.89356404, 16813.42262049,  5959.86567653,\n",
              "       15439.95702956,  6038.70656081, 14766.11227302,  6436.49160026,\n",
              "       12597.27572256, 14527.00606908, 10735.73471117,  8940.63684288,\n",
              "       14218.88023145,  5771.47867548,  5728.00482022,  9136.26919155,\n",
              "       19139.8415317 , 19170.27323038, 15935.31545052,  5773.78869276,\n",
              "       29682.83849911,  8147.79030961, 16274.60505283,  9268.75783324,\n",
              "        9482.07296024,  8830.98337307, 11405.58326135, 10445.07753341,\n",
              "       21925.46858925, 34142.24486759])"
            ]
          },
          "metadata": {},
          "execution_count": 45
        }
      ],
      "source": [
        "y_pred = linear_model.predict(x_test)\n",
        "y_pred"
      ]
    },
    {
      "cell_type": "code",
      "execution_count": null,
      "metadata": {
        "id": "H3GXlzsuPfFx"
      },
      "outputs": [],
      "source": [
        "#y_pred\n",
        "#print(type(y_pred))\n",
        "#y_test = y_test.to_numpy() \n",
        "#print(type(y_test))\n",
        "#print(y_test)"
      ]
    },
    {
      "cell_type": "code",
      "execution_count": null,
      "metadata": {
        "id": "NhsT1g1YPfFx"
      },
      "outputs": [],
      "source": [
        "#Importar métricas\n",
        "from sklearn.metrics import r2_score, mean_squared_error, mean_absolute_error"
      ]
    },
    {
      "cell_type": "code",
      "execution_count": null,
      "metadata": {
        "colab": {
          "base_uri": "https://localhost:8080/"
        },
        "outputId": "89c6db19-828e-48fd-8018-e06cc76551da",
        "id": "IPUbXxW1PfFy"
      },
      "outputs": [
        {
          "output_type": "stream",
          "name": "stdout",
          "text": [
            "0.8544556383501688\n"
          ]
        }
      ],
      "source": [
        "r2 = r2_score(y_test, y_pred)\n",
        "print(r2)"
      ]
    },
    {
      "cell_type": "code",
      "execution_count": null,
      "metadata": {
        "colab": {
          "base_uri": "https://localhost:8080/"
        },
        "outputId": "85cd4f74-d0d6-4f87-a26c-987a619f0ab5",
        "id": "3jjNQQ7iPfFy"
      },
      "outputs": [
        {
          "output_type": "stream",
          "name": "stdout",
          "text": [
            "9450361.071664654\n"
          ]
        }
      ],
      "source": [
        "from sklearn.metrics import mean_squared_error\n",
        "ecm = mean_squared_error(y_test, y_pred)\n",
        "print(ecm)"
      ]
    },
    {
      "cell_type": "code",
      "execution_count": null,
      "metadata": {
        "colab": {
          "base_uri": "https://localhost:8080/"
        },
        "outputId": "daac991f-86b1-43c9-824e-ed642e468e88",
        "id": "ddYOpeZpPfFy"
      },
      "outputs": [
        {
          "output_type": "stream",
          "name": "stdout",
          "text": [
            "3074.143957537554\n"
          ]
        }
      ],
      "source": [
        "#Raíz del Error Cuadrático Medio (RECM)\n",
        "recm = math.sqrt(ecm)\n",
        "print(recm)"
      ]
    },
    {
      "cell_type": "code",
      "execution_count": null,
      "metadata": {
        "colab": {
          "base_uri": "https://localhost:8080/"
        },
        "outputId": "4458f32e-aa5d-4dae-8f9f-5504a6baf8d5",
        "id": "2v320H5JPfFz"
      },
      "outputs": [
        {
          "output_type": "stream",
          "name": "stdout",
          "text": [
            "2031.1195765610546\n"
          ]
        }
      ],
      "source": [
        "#Error Absoluto Medio\n",
        "eam = mean_absolute_error(y_test, y_pred)\n",
        "print(eam)"
      ]
    },
    {
      "cell_type": "code",
      "execution_count": null,
      "metadata": {
        "colab": {
          "base_uri": "https://localhost:8080/",
          "height": 493
        },
        "outputId": "4b5a6e10-59f9-4565-dc58-1a17c8cea868",
        "id": "T2h-W00QPfFz"
      },
      "outputs": [
        {
          "output_type": "execute_result",
          "data": {
            "text/plain": [
              "Text(0, 0.5, 'Recuento')"
            ]
          },
          "metadata": {},
          "execution_count": 52
        },
        {
          "output_type": "display_data",
          "data": {
            "text/plain": [
              "<Figure size 1440x720 with 1 Axes>"
            ],
            "image/png": "[encoded data removed]"
          },
          "metadata": {
            "needs_background": "light"
          }
        }
      ],
      "source": [
        "#Grafico de predicción\n",
        "plt.figure(figsize = (20,10))\n",
        "\n",
        "plt.plot(y_pred, label='Prediccion', color='blue')\n",
        "plt.plot(y_test.values, label='Real', color='green')\n",
        "plt.ylabel('Recuento')"
      ]
    }
  ],
  "metadata": {
    "kernelspec": {
      "display_name": "Python 3",
      "language": "python",
      "name": "python3"
    },
    "language_info": {
      "codemirror_mode": {
        "name": "ipython",
        "version": 3
      },
      "file_extension": ".py",
      "mimetype": "text/x-python",
      "name": "python",
      "nbconvert_exporter": "python",
      "pygments_lexer": "ipython3",
      "version": "3.9.12"
    },
    "orig_nbformat": 4,
    "vscode": {
      "interpreter": {
        "hash": "27d3d93d0a25daebbe29e22045a164213efff4d205c8e48bb3e7b6adcd3a2ab9"
      }
    },
    "colab": {
      "provenance": [],
      "include_colab_link": true
    }
  },
  "nbformat": 4,
  "nbformat_minor": 0
}